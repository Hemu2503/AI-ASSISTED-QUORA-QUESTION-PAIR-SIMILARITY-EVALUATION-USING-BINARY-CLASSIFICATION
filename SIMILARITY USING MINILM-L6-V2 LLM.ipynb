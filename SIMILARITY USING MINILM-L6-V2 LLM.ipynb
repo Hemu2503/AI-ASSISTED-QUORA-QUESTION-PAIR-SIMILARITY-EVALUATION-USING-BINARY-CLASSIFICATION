{
 "cells": [
  {
   "cell_type": "code",
   "execution_count": 1,
   "metadata": {},
   "outputs": [
    {
     "name": "stdout",
     "output_type": "stream",
     "text": [
      "WARNING:tensorflow:From c:\\Users\\heman\\anaconda3\\Lib\\site-packages\\tf_keras\\src\\losses.py:2976: The name tf.losses.sparse_softmax_cross_entropy is deprecated. Please use tf.compat.v1.losses.sparse_softmax_cross_entropy instead.\n",
      "\n"
     ]
    }
   ],
   "source": [
    "import os\n",
    "import re\n",
    "import nltk\n",
    "import pandas as pd\n",
    "import numpy as np\n",
    "import matplotlib.pyplot as plt\n",
    "from dotenv import load_dotenv\n",
    "from sklearn.metrics import classification_report, confusion_matrix, accuracy_score\n",
    "from sklearn.model_selection import train_test_split\n",
    "from sklearn.preprocessing import StandardScaler\n",
    "from sklearn.ensemble import RandomForestClassifier\n",
    "from sentence_transformers import SentenceTransformer\n",
    "\n",
    "\n",
    "# Download NLTK stopwords (if not already done)\n",
    "#nltk.download('stopwords')\n",
    "from nltk.corpus import stopwords"
   ]
  },
  {
   "cell_type": "code",
   "execution_count": 2,
   "metadata": {},
   "outputs": [],
   "source": [
    "########################################\n",
    "# 1. Preprocessing Helper Function\n",
    "########################################\n",
    "def preprocess_text(text):\n",
    "    # Convert to string, lower-case, and strip extra spaces\n",
    "    text = str(text).lower().strip()\n",
    "    # Remove non-alphanumeric characters (keep spaces)\n",
    "    text = re.sub(r'[^a-z0-9\\s]', '', text)\n",
    "    # Filter out stopwords\n",
    "    stop_words = set(stopwords.words('english'))\n",
    "    tokens = [word for word in text.split() if word not in stop_words]\n",
    "    return \" \".join(tokens)"
   ]
  },
  {
   "cell_type": "code",
   "execution_count": 3,
   "metadata": {},
   "outputs": [],
   "source": [
    "    ############################################\n",
    "    # 2. Traditional Similarity Methods Class\n",
    "    ############################################\n",
    "class TraditionalSimilarity:\n",
    "        def jaccard_similarity(self, q1, q2):\n",
    "            words1 = set(q1.split())\n",
    "            words2 = set(q2.split())\n",
    "            intersection = len(words1.intersection(words2))\n",
    "            union = len(words1.union(words2))\n",
    "            return intersection / union if union != 0 else 0\n",
    "\n",
    "        def levenshtein_similarity(self, s1, s2):\n",
    "            m, n = len(s1), len(s2)\n",
    "            dp = np.zeros((m+1, n+1), dtype=int)\n",
    "            for i in range(m+1):\n",
    "                dp[i][0] = i\n",
    "            for j in range(n+1):\n",
    "                dp[0][j] = j\n",
    "            for i in range(1, m+1):\n",
    "                for j in range(1, n+1):\n",
    "                    if s1[i-1] == s2[j-1]:\n",
    "                        dp[i][j] = dp[i-1][j-1]\n",
    "                    else:\n",
    "                        dp[i][j] = 1 + min(dp[i-1][j], dp[i][j-1], dp[i-1][j-1])\n",
    "            max_len = max(m, n)\n",
    "            return 1 - (dp[m][n] / max_len) if max_len != 0 else 0"
   ]
  },
  {
   "cell_type": "code",
   "execution_count": 4,
   "metadata": {},
   "outputs": [],
   "source": [
    "############################################\n",
    "# 3. AI-Enhanced Similarity Methods using SentenceTransformer\n",
    "############################################\n",
    "class AIEnhancedSimilarity:\n",
    "    def __init__(self, model_name='all-MiniLM-L6-v2'):\n",
    "        self.model = SentenceTransformer(model_name)\n",
    "    \n",
    "    def semantic_similarity(self, q1, q2):\n",
    "        embeddings = self.model.encode([q1, q2])\n",
    "        sim = np.dot(embeddings[0], embeddings[1]) / (np.linalg.norm(embeddings[0]) * np.linalg.norm(embeddings[1]))\n",
    "        return sim"
   ]
  },
  {
   "cell_type": "code",
   "execution_count": 5,
   "metadata": {},
   "outputs": [],
   "source": [
    "############################################\n",
    "# 4. Data Loading and Preprocessing\n",
    "############################################\n",
    "# Set sample_size as desired (using 15 rows here for demonstration)\n",
    "sample_size = 20000\n",
    "df = pd.read_csv('train.csv', nrows=sample_size)\n",
    "df['question1'] = df['question1'].apply(preprocess_text)\n",
    "df['question2'] = df['question2'].apply(preprocess_text)\n",
    "\n",
    "# Initialize similarity metric classes\n",
    "trad_sim = TraditionalSimilarity()\n",
    "ai_sim = AIEnhancedSimilarity()"
   ]
  },
  {
   "cell_type": "code",
   "execution_count": 6,
   "metadata": {},
   "outputs": [
    {
     "name": "stdout",
     "output_type": "stream",
     "text": [
      "Calculating similarity features...\n"
     ]
    }
   ],
   "source": [
    "############################################\n",
    "# 5. Compute Similarity Features for Each Question Pair\n",
    "############################################\n",
    "print(\"Calculating similarity features...\")\n",
    "df['jaccard_sim'] = df.apply(lambda row: trad_sim.jaccard_similarity(row['question1'], row['question2']), axis=1)\n",
    "df['levenshtein_sim'] = df.apply(lambda row: trad_sim.levenshtein_similarity(row['question1'], row['question2']), axis=1)\n",
    "df['semantic_sim'] = df.apply(lambda row: ai_sim.semantic_similarity(row['question1'], row['question2']), axis=1)"
   ]
  },
  {
   "cell_type": "code",
   "execution_count": 7,
   "metadata": {},
   "outputs": [
    {
     "name": "stdout",
     "output_type": "stream",
     "text": [
      "\n",
      "Classification Report:\n",
      "              precision    recall  f1-score   support\n",
      "\n",
      "           0       0.80      0.79      0.79      2495\n",
      "           1       0.65      0.66      0.66      1505\n",
      "\n",
      "    accuracy                           0.74      4000\n",
      "   macro avg       0.72      0.73      0.73      4000\n",
      "weighted avg       0.74      0.74      0.74      4000\n",
      "\n",
      "\n",
      "Confusion Matrix:\n",
      "[[1965  530]\n",
      " [ 505 1000]]\n"
     ]
    }
   ],
   "source": [
    "############################################\n",
    "# 6. Prepare Features, Split Data, and Train Classifier\n",
    "############################################\n",
    "# Feature set using the three similarity measurements\n",
    "features = ['jaccard_sim', 'levenshtein_sim', 'semantic_sim']\n",
    "X = df[features]\n",
    "y = df['is_duplicate']  # 'is_duplicate' should be 0 or 1\n",
    "\n",
    "X_train, X_test, y_train, y_test = train_test_split(X, y, test_size=0.2, random_state=42)\n",
    "\n",
    "scaler = StandardScaler()\n",
    "X_train_scaled = scaler.fit_transform(X_train)\n",
    "X_test_scaled = scaler.transform(X_test)\n",
    "\n",
    "clf = RandomForestClassifier(n_estimators=100, random_state=42)\n",
    "clf.fit(X_train_scaled, y_train)\n",
    "y_pred = clf.predict(X_test_scaled)\n",
    "\n",
    "print(\"\\nClassification Report:\")\n",
    "print(classification_report(y_test, y_pred))\n",
    "print(\"\\nConfusion Matrix:\")\n",
    "print(confusion_matrix(y_test, y_pred))\n"
   ]
  },
  {
   "cell_type": "code",
   "execution_count": 8,
   "metadata": {},
   "outputs": [
    {
     "name": "stdout",
     "output_type": "stream",
     "text": [
      "\n",
      "Accuracies for individual similarity measures:\n",
      "Jaccard Similarity: 0.6542\n",
      "Levenshtein Similarity: 0.6701\n",
      "Semantic Similarity: 0.5919\n",
      "Combined Model: 0.7412\n"
     ]
    },
    {
     "data": {
      "image/png": "[encoded data removed]",
      "text/plain": [
       "<Figure size 1000x600 with 1 Axes>"
      ]
     },
     "metadata": {},
     "output_type": "display_data"
    }
   ],
   "source": [
    "############################################\n",
    "# 7. Print Accuracies for Individual Similarity Measures\n",
    "############################################\n",
    "# For similarity scores, we apply a threshold of 0.5 to get a binary prediction:\n",
    "jaccard_pred = df['jaccard_sim'].apply(lambda x: 1 if x > 0.5 else 0)\n",
    "levenshtein_pred = df['levenshtein_sim'].apply(lambda x: 1 if x > 0.5 else 0)\n",
    "semantic_pred = df['semantic_sim'].apply(lambda x: 1 if x > 0.5 else 0)\n",
    "\n",
    "jaccard_acc = accuracy_score(df['is_duplicate'], jaccard_pred)\n",
    "levenshtein_acc = accuracy_score(df['is_duplicate'], levenshtein_pred)\n",
    "semantic_acc = accuracy_score(df['is_duplicate'], semantic_pred)\n",
    "combined_acc = accuracy_score(y_test, y_pred)\n",
    "\n",
    "print(\"\\nAccuracies for individual similarity measures:\")\n",
    "print(f\"Jaccard Similarity: {jaccard_acc:.4f}\")\n",
    "print(f\"Levenshtein Similarity: {levenshtein_acc:.4f}\")\n",
    "print(f\"Semantic Similarity: {semantic_acc:.4f}\")\n",
    "print(f\"Combined Model: {combined_acc:.4f}\")\n",
    "\n",
    "# Plot a bar graph comparing these accuracies\n",
    "methods = [\"Jaccard\", \"Levenshtein\", \"Semantic\", \"Combined\"]\n",
    "accuracies = [jaccard_acc, levenshtein_acc, semantic_acc, combined_acc]\n",
    "plt.figure(figsize=(10, 6))\n",
    "plt.bar(methods, accuracies, color=[\"blue\", \"green\", \"orange\", \"purple\"])\n",
    "plt.ylim(0, 1)\n",
    "plt.ylabel(\"Accuracy\")\n",
    "plt.title(\"Accuracy Comparison Across Similarity Methods\")\n",
    "for i, acc in enumerate(accuracies):\n",
    "    plt.text(i, acc + 0.01, f\"{acc:.2f}\", ha=\"center\")\n",
    "plt.show()"
   ]
  },
  {
   "cell_type": "code",
   "execution_count": null,
   "metadata": {},
   "outputs": [],
   "source": [
    "############################################\n",
    "# 8. Sample Prediction Function for User Input\n",
    "############################################\n",
    "def predict_similarity(q1, q2):\n",
    "    q1_processed = preprocess_text(q1)\n",
    "    q2_processed = preprocess_text(q2)\n",
    "    feat = [\n",
    "        trad_sim.jaccard_similarity(q1_processed, q2_processed),\n",
    "        trad_sim.levenshtein_similarity(q1_processed, q2_processed),\n",
    "        ai_sim.semantic_similarity(q1_processed, q2_processed)\n",
    "    ]\n",
    "    feat_scaled = scaler.transform([feat])\n",
    "    pred = clf.predict(feat_scaled)[0]\n",
    "    proba = clf.predict_proba(feat_scaled)[0][1]\n",
    "    return pred, proba"
   ]
  },
  {
   "cell_type": "code",
   "execution_count": 10,
   "metadata": {},
   "outputs": [
    {
     "name": "stdout",
     "output_type": "stream",
     "text": [
      "\n",
      "Sample Prediction:\n",
      "Question 1: How do I read and find my YouTube comments?\n",
      "Question 2: How can I see all my Youtube comments?\n",
      "Predicted as duplicate (1 = yes): 1 with probability 0.65\n"
     ]
    },
    {
     "name": "stderr",
     "output_type": "stream",
     "text": [
      "c:\\Users\\heman\\anaconda3\\Lib\\site-packages\\sklearn\\base.py:493: UserWarning: X does not have valid feature names, but StandardScaler was fitted with feature names\n",
      "  warnings.warn(\n"
     ]
    }
   ],
   "source": [
    "# Example usage:\n",
    "q1_sample = \"How do I read and find my YouTube comments?\"\n",
    "q2_sample = \"How can I see all my Youtube comments?\"\n",
    "prediction, probability = predict_similarity(q1_sample, q2_sample)\n",
    "print(f\"\\nSample Prediction:\")\n",
    "print(f\"Question 1: {q1_sample}\")\n",
    "print(f\"Question 2: {q2_sample}\")\n",
    "print(f\"Predicted as duplicate (1 = yes): {prediction} with probability {probability:.2f}\")"
   ]
  },
  {
   "cell_type": "code",
   "execution_count": null,
   "metadata": {},
   "outputs": [
    {
     "name": "stdout",
     "output_type": "stream",
     "text": [
      " * Serving Flask app '__main__'\n",
      " * Debug mode: off\n"
     ]
    },
    {
     "name": "stderr",
     "output_type": "stream",
     "text": [
      "WARNING: This is a development server. Do not use it in a production deployment. Use a production WSGI server instead.\n",
      " * Running on http://127.0.0.60:5000\n",
      "Press CTRL+C to quit\n"
     ]
    }
   ],
   "source": [
    "from flask import Flask, request, render_template_string\n",
    "import threading\n",
    "\n",
    "# Assuming the necessary imports for the prediction function are here\n",
    "# For example:\n",
    "# from your_model import trad_sim, ai_sim, preprocess_text, scaler, clf\n",
    "\n",
    "app = Flask(__name__)\n",
    "\n",
    "# 8. Sample Prediction Function for User Input\n",
    "def predict_similarity(q1, q2):\n",
    "    # Preprocess the text (assumed to be your preprocessing function)\n",
    "    q1_processed = preprocess_text(q1)\n",
    "    q2_processed = preprocess_text(q2)\n",
    "    \n",
    "    # Calculate traditional and AI-based similarity scores\n",
    "    feat = [\n",
    "        trad_sim.jaccard_similarity(q1_processed, q2_processed),\n",
    "        trad_sim.levenshtein_similarity(q1_processed, q2_processed),\n",
    "        ai_sim.semantic_similarity(q1_processed, q2_processed)\n",
    "    ]\n",
    "    \n",
    "    # Scale features and predict\n",
    "    feat_scaled = scaler.transform([feat])\n",
    "    pred = clf.predict(feat_scaled)[0]\n",
    "    proba = clf.predict_proba(feat_scaled)[0][1]\n",
    "    \n",
    "    return pred, proba\n",
    "\n",
    "@app.route(\"/\", methods=[\"GET\", \"POST\"])\n",
    "def index():\n",
    "    result = \"\"\n",
    "    if request.method == \"POST\":\n",
    "        user_q1 = request.form.get(\"question1\")\n",
    "        user_q2 = request.form.get(\"question2\")\n",
    "        \n",
    "        # Call the prediction function\n",
    "        pred, proba = predict_similarity(user_q1, user_q2)\n",
    "        \n",
    "        # Determine the result message based on the prediction\n",
    "        result = \"✅ Matched (Duplicate)\" if pred == 1 else \"❌ Not Matched\"\n",
    "        result += f\" with probability {proba:.2f}\"\n",
    "    \n",
    "    # Reset the result if form was reset (GET method)\n",
    "    if request.method == \"GET\":\n",
    "        result = \"\"\n",
    "\n",
    "    html = \"\"\"\n",
    "    <!doctype html>\n",
    "    <html lang=\"en\">\n",
    "    <head>\n",
    "        <meta charset=\"UTF-8\">\n",
    "        <meta name=\"viewport\" content=\"width=device-width, initial-scale=1\">\n",
    "        <title>Quora Question Pair Similarity</title>\n",
    "        <link rel=\"stylesheet\" href=\"https://cdn.jsdelivr.net/npm/bootstrap@5.3.0/dist/css/bootstrap.min.css\">\n",
    "        <script src=\"https://code.jquery.com/jquery-3.6.0.min.js\"></script>\n",
    "        <style>\n",
    "            body {\n",
    "                background-color: #f8f9fa;\n",
    "                font-family: 'Arial', sans-serif;\n",
    "            }\n",
    "            .container {\n",
    "                max-width: 600px;\n",
    "                background: white;\n",
    "                padding: 25px;\n",
    "                margin-top: 50px;\n",
    "                border-radius: 10px;\n",
    "                box-shadow: 0px 0px 20px rgba(0,0,0,0.2);\n",
    "                animation: fadeIn 1s ease-in-out;\n",
    "            }\n",
    "            @keyframes fadeIn {\n",
    "                from { opacity: 0; transform: translateY(-20px); }\n",
    "                to { opacity: 1; transform: translateY(0); }\n",
    "            }\n",
    "            .btn-custom {\n",
    "                width: 100%;\n",
    "                background-color: #007bff;\n",
    "                color: white;\n",
    "                border-radius: 5px;\n",
    "                padding: 10px;\n",
    "                transition: 0.3s;\n",
    "            }\n",
    "            .btn-custom:hover {\n",
    "                background-color: #0056b3;\n",
    "            }\n",
    "            .btn-secondary {\n",
    "                width: 100%;\n",
    "                background-color: #6c757d;\n",
    "                color: white;\n",
    "                border-radius: 5px;\n",
    "                padding: 10px;\n",
    "                transition: 0.3s;\n",
    "            }\n",
    "            .btn-secondary:hover {\n",
    "                background-color: #5a6268;\n",
    "            }\n",
    "            .form-control {\n",
    "                padding: 10px;\n",
    "                font-size: 16px;\n",
    "                border-radius: 5px;\n",
    "            }\n",
    "            .result {\n",
    "                text-align: center;\n",
    "                font-size: 20px;\n",
    "                margin-top: 20px;\n",
    "                padding: 10px;\n",
    "                border-radius: 8px;\n",
    "                background: #d4edda;\n",
    "                color: #155724;\n",
    "                border: 1px solid #c3e6cb;\n",
    "                animation: slideIn 0.5s ease-in-out;\n",
    "            }\n",
    "            @keyframes slideIn {\n",
    "                from { opacity: 0; transform: scale(0.9); }\n",
    "                to { opacity: 1; transform: scale(1); }\n",
    "            }\n",
    "        </style>\n",
    "    </head>\n",
    "    <body>\n",
    "        <div class=\"container\">\n",
    "            <h3 class=\"text-center text-primary\">\n",
    "                AI-Assisted Quora Question Pair Similarity Evaluation\n",
    "            </h3>\n",
    "            <p class=\"text-center text-muted\">\n",
    "                Using <strong>ALL-MINILM-L6-V2</strong> Model\n",
    "            </p>\n",
    "            <form method=\"post\">\n",
    "                <div class=\"mb-3\">\n",
    "                    <label for=\"question1\" class=\"form-label\">Question 1:</label>\n",
    "                    <input type=\"text\" class=\"form-control\" id=\"question1\" name=\"question1\" required>\n",
    "                </div>\n",
    "                <div class=\"mb-3\">\n",
    "                    <label for=\"question2\" class=\"form-label\">Question 2:</label>\n",
    "                    <input type=\"text\" class=\"form-control\" id=\"question2\" name=\"question2\" required>\n",
    "                </div>\n",
    "                <button type=\"submit\" class=\"btn btn-custom\">Predict Duplicate</button>\n",
    "                <button type=\"reset\" class=\"btn btn-secondary\" onclick=\"resetForm()\">Reset</button>\n",
    "            </form>\n",
    "            \n",
    "            {% if result %}\n",
    "                <div class=\"result mt-3\">\n",
    "                    Result: {{ result | safe }}\n",
    "                </div>\n",
    "            {% endif %}\n",
    "        </div>\n",
    "        <script>\n",
    "            function resetForm() {\n",
    "                document.getElementById(\"question1\").value = '';\n",
    "                document.getElementById(\"question2\").value = '';\n",
    "                document.querySelector('.result').style.display = 'none';  // Hide result div\n",
    "            }\n",
    "        </script>\n",
    "    </body>\n",
    "    </html>\n",
    "    \"\"\"\n",
    "    return render_template_string(html, result=result)\n",
    "\n",
    "# Function to run Flask app in a thread\n",
    "def run_flask():\n",
    "    app.run(host=\"127.0.0.60\", port=5000, debug=False, use_reloader=False)\n",
    "\n",
    "# Run Flask app in a separate thread\n",
    "thread = threading.Thread(target=run_flask)\n",
    "thread.start()\n"
   ]
  },
  {
   "cell_type": "code",
   "execution_count": null,
   "metadata": {},
   "outputs": [
    {
     "name": "stdout",
     "output_type": "stream",
     "text": [
      "Flask server stopped.\n"
     ]
    }
   ],
   "source": [
    "# import requests\n",
    "# import os\n",
    "\n",
    "# # Check if the endpoint already exists before defining it\n",
    "# if not any(rule.rule == '/shutdown' for rule in app.url_map.iter_rules()):\n",
    "#     @app.route('/shutdown', methods=['POST'])\n",
    "#     def shutdown():\n",
    "#         os._exit(0)  # Forcefully stops the Flask app\n",
    "#         return \"Server shutting down...\"\n",
    "\n",
    "# def stop_flask():\n",
    "#     try:\n",
    "#         requests.post('http://127.0.0.60:5000/shutdown')\n",
    "#     except requests.exceptions.RequestException:\n",
    "#         print(\"Flask server stopped.\")\n",
    "\n",
    "# stop_flask()"
   ]
  },
  {
   "cell_type": "code",
   "execution_count": null,
   "metadata": {},
   "outputs": [
    {
     "data": {
      "text/plain": [
       "<function __main__.stop_flask()>"
      ]
     },
     "execution_count": 13,
     "metadata": {},
     "output_type": "execute_result"
    }
   ],
   "source": [
    "# stop_flask"
   ]
  }
 ],
 "metadata": {
  "kernelspec": {
   "display_name": "base",
   "language": "python",
   "name": "python3"
  },
  "language_info": {
   "codemirror_mode": {
    "name": "ipython",
    "version": 3
   },
   "file_extension": ".py",
   "mimetype": "text/x-python",
   "name": "python",
   "nbconvert_exporter": "python",
   "pygments_lexer": "ipython3",
   "version": "3.12.4"
  }
 },
 "nbformat": 4,
 "nbformat_minor": 2
}
